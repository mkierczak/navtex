{
 "cells": [
  {
   "cell_type": "code",
   "execution_count": 1,
   "metadata": {},
   "outputs": [],
   "source": [
    "%matplotlib inline\n",
    "\n",
    "import numpy as np\n",
    "import scipy\n",
    "import scipy.signal\n",
    "from scipy.io import wavfile\n",
    "import matplotlib.pyplot as plt\n",
    "from navtex import ALPHABET_FIGS, ALPHABET_LTRS # See https://arachnoid.com/JNX/"
   ]
  },
  {
   "cell_type": "code",
   "execution_count": 2,
   "metadata": {},
   "outputs": [],
   "source": [
    "# Load audio files\n",
    "FILENAME = 'audio/navtex_example.wav' # Downloaded from https://arachnoid.com/JNX/ \n",
    "# FILENAME = 'audio/navtex_wiki.wav'  # Downloaded from https://en.wikipedia.org/wiki/Navtex\n",
    "sample_rate, data = wavfile.read(FILENAME)\n",
    "data = np.array(data)\n",
    "\n",
    "# If stero take left channel\n",
    "if len(data.shape) > 1 and data.shape[1] == 2:\n",
    "    data = data[:, 1]"
   ]
  },
  {
   "cell_type": "code",
   "execution_count": 3,
   "metadata": {},
   "outputs": [],
   "source": [
    "# Approximate center frequency by taking strongest frequency\n",
    "f = np.abs(np.fft.fft(data))\n",
    "fs = np.fft.fftfreq(data.size, d=1.0/sample_rate)\n",
    "\n",
    "# Take positive frequencies\n",
    "f = f[:f.size/2]\n",
    "fs = fs[:fs.size/2]\n",
    "\n",
    "center_freq = fs[np.argmax(f)]"
   ]
  },
  {
   "cell_type": "code",
   "execution_count": 4,
   "metadata": {},
   "outputs": [],
   "source": [
    "# NAVTEX is modulated using FSK (frequency shift keying) which we have to demodulate first\n",
    "\n",
    "# Find acceptable frequency range\n",
    "f = center_freq\n",
    "f_min = (f-500.) / sample_rate\n",
    "f_max = (f+500.) / sample_rate\n",
    "f = f / sample_rate\n",
    "\n",
    "\n",
    "# Simple PLL to recover frequency without using slow FFTs\n",
    "prev_start_t = 0\n",
    "fs = []\n",
    "for t in range(1, len(data)):\n",
    "    x = np.sin((t - prev_start_t) * 2 * np.pi * f) \n",
    "    \n",
    "    # On zero crossing of received signal check phase of internal oscillator\n",
    "    if data[t] > 0 and data[t-1] < 0:\n",
    "        prev_start_t = t\n",
    "        \n",
    "        # Adjust frequency proportional to phase offset\n",
    "        f -= (100.0 / sample_rate) * x\n",
    "        \n",
    "        # Clip to acceptable frequency range\n",
    "        f = min(f, f_max)\n",
    "        f = max(f, f_min)\n",
    "        \n",
    "    fs.append(f)\n",
    "    \n",
    "fs = np.array(fs)"
   ]
  },
  {
   "cell_type": "code",
   "execution_count": 5,
   "metadata": {},
   "outputs": [
    {
     "data": {
      "text/plain": [
       "(0, 40000)"
      ]
     },
     "execution_count": 5,
     "metadata": {},
     "output_type": "execute_result"
    },
    {
     "data": {
      "image/png": "[encoded data removed]",
      "text/plain": [
       "<Figure size 432x288 with 1 Axes>"
      ]
     },
     "metadata": {},
     "output_type": "display_data"
    }
   ],
   "source": [
    "N = 40000\n",
    "plt.plot(fs)\n",
    "plt.xlim([0, N])"
   ]
  },
  {
   "cell_type": "code",
   "execution_count": 6,
   "metadata": {},
   "outputs": [],
   "source": [
    "# Extract bits from demodulated frequency. NAVTEX is transmitted at 100 bits/sec\n",
    "\n",
    "avg = np.average(fs) # Center frequency\n",
    "expected_len = sample_rate / 100.  # 100 Baud\n",
    "\n",
    "prev_change = 0\n",
    "bits = []\n",
    "\n",
    "for i in range(1, len(fs)):\n",
    "    di = i - prev_change\n",
    "    num_bits = int(round(di / expected_len))\n",
    "    \n",
    "    if fs[i] > avg and fs[i-1] < avg: # Rising, previous was 0\n",
    "        bits += num_bits * [0]\n",
    "        prev_change = i\n",
    "    if fs[i] < avg and fs[i-1] > avg: # Falling, previous was 1\n",
    "        bits += num_bits * [1]\n",
    "        prev_change = i\n",
    "        \n",
    "bits = np.array(bits)"
   ]
  },
  {
   "cell_type": "code",
   "execution_count": 7,
   "metadata": {},
   "outputs": [
    {
     "name": "stdout",
     "output_type": "stream",
     "text": [
      "\n",
      "\n",
      "NOW IS THE TIME FOR ALL GOOD MEN TO COME TO THE AID OF THEIR COUNTRY.\n",
      "\n",
      "\n"
     ]
    }
   ],
   "source": [
    "# More information about the decoding process can be found here: https://arachnoid.com/JNX/\n",
    "# Summarized:\n",
    "# 1) Symbols are 7 bit, always 4 ones, 3 zeroes\n",
    "# 2) Shift through data until symbols have 4 ones, 3 zeroes\n",
    "# 3) Seperate two datastreams, indicated by [alpha] and [rep]\n",
    "# 4) There are two alphabets, one for letters one for symbols. Switch on [ltrs] & [figs]\n",
    "# 5) Accept characters if they are equal in both streams\n",
    "# TODO: Error correction\n",
    "\n",
    "N = 7\n",
    "shift = 0\n",
    "\n",
    "cur_alphabet_A = ALPHABET_LTRS\n",
    "cur_alphabet_B = ALPHABET_LTRS\n",
    "msg_a = \"\"\n",
    "msg_b = \"\"\n",
    "\n",
    "alpha_shift = 0\n",
    "for i in range(len(bits) / N):\n",
    "    b = bits[i*N + shift:(i+1)*N + shift]\n",
    "    s = \"\".join(map(str, b))\n",
    "    s = s[::-1]\n",
    "    if s.count('1') != 4:\n",
    "        shift += 1\n",
    "        shift %= N\n",
    "    else:\n",
    "        h = int(s, 2)\n",
    "        if h == 0xf: # [alpha]\n",
    "            alpha_shift = i % 2\n",
    "            cur_alphabet_A = ALPHABET_LTRS\n",
    "        elif h == 0x66: # [rep]\n",
    "            alpha_shift = (i+1) % 2\n",
    "            cur_alphabet_B = ALPHABET_LTRS\n",
    "            \n",
    "        if i % 2 == alpha_shift:\n",
    "            dec = cur_alphabet_A[h]\n",
    "            if dec == '[ltrs]':\n",
    "                cur_alphabet_A = ALPHABET_LTRS\n",
    "            elif dec == '[figs]':\n",
    "                cur_alphabet_A = ALPHABET_FIGS\n",
    "            elif not dec.startswith('['):\n",
    "                msg_a += dec\n",
    "        else:\n",
    "            dec = cur_alphabet_B[h]\n",
    "            if dec == '[ltrs]':\n",
    "                cur_alphabet_B = ALPHABET_LTRS\n",
    "            elif dec == '[figs]':\n",
    "                cur_alphabet_B = ALPHABET_FIGS\n",
    "            elif not dec.startswith('['):\n",
    "                msg_b += dec\n",
    "                \n",
    "msg = \"\"\n",
    "for a, b in zip(msg_a, msg_b):\n",
    "    if a == b:\n",
    "        msg += a\n",
    "    else:\n",
    "        msg += \"?\"\n",
    "print msg\n",
    "    \n"
   ]
  }
 ],
 "metadata": {
  "kernelspec": {
   "display_name": "Python 2",
   "language": "python",
   "name": "python2"
  },
  "language_info": {
   "codemirror_mode": {
    "name": "ipython",
    "version": 2
   },
   "file_extension": ".py",
   "mimetype": "text/x-python",
   "name": "python",
   "nbconvert_exporter": "python",
   "pygments_lexer": "ipython2",
   "version": "2.7.14"
  }
 },
 "nbformat": 4,
 "nbformat_minor": 2
}
